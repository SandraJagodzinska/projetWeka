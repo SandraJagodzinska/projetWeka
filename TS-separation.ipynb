{
 "cells": [
  {
   "cell_type": "code",
   "execution_count": 6,
   "id": "50698adb",
   "metadata": {},
   "outputs": [],
   "source": [
    "index = 1\n",
    "with open(\"./TaylorSwift.txt\", 'r', encoding='utf-8') as f:\n",
    "    text = []\n",
    "    for line in f:\n",
    "        if line == '\\n':  # si on trouve un saut de ligne\n",
    "            text.append(line)  # add dans le nouveau fichier\n",
    "            if len(text) >= 3 and text[-2] == '\\n':  # s'il y a deux sauts de ligne\n",
    "                # on enregistre un nouveau fichier\n",
    "                with open(f'./taylor/chanson-{index}.txt', 'w', encoding='utf-8') as cf:\n",
    "                    cf.writelines(text)\n",
    "                index += 1  # incremente le compteur\n",
    "                text = []  # on reinitialise la liste\n",
    "        else:\n",
    "            text.append(line)  # add la ligne dans le fichier actuel\n",
    "\n",
    "    # pour le dernier fichier\n",
    "    if len(text) > 0:\n",
    "        with open(f'./taylor/chanson-{index}.txt', 'w', encoding='utf-8') as cf:\n",
    "            cf.writelines(text)     "
   ]
  }
 ],
 "metadata": {
  "kernelspec": {
   "display_name": "Python 3 (ipykernel)",
   "language": "python",
   "name": "python3"
  },
  "language_info": {
   "codemirror_mode": {
    "name": "ipython",
    "version": 3
   },
   "file_extension": ".py",
   "mimetype": "text/x-python",
   "name": "python",
   "nbconvert_exporter": "python",
   "pygments_lexer": "ipython3",
   "version": "3.9.12"
  }
 },
 "nbformat": 4,
 "nbformat_minor": 5
}
